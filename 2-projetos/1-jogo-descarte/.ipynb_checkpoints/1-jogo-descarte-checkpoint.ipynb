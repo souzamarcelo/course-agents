{
 "cells": [
  {
   "cell_type": "markdown",
   "id": "automatic-victim",
   "metadata": {},
   "source": [
    "<div align=\"right\" style=\"text-align:right\"><a rel=\"license\" href=\"http://creativecommons.org/licenses/by-nc-nd/4.0/\"><img alt=\"Licença Creative Commons\" style=\"border-width:0; float:right\" src=\"https://i.creativecommons.org/l/by-nc-nd/4.0/88x31.png\" /></a><br><br><i>Prof. Marcelo de Souza</i><br>marcelo.desouza@udesc.br</div>"
   ]
  },
  {
   "cell_type": "markdown",
   "id": "representative-mounting",
   "metadata": {},
   "source": [
    "# Jogo do Descarte\n",
    "\n",
    "Trata-se de um jogo de cartas onde um agente único joga contra a mesa (ambiente).\n",
    "\n",
    "\n",
    "## Regras\n",
    "\n",
    "+ Joga-se com um baralho normal (cartas de A a K de quatro naipes; excluídos os coringas);\n",
    "+ O jogo inicia com uma carta na mesa voltada para cima (chamada carta aberta), cinco cartas na mão do (único) jogador, e as demais cartas em um monte de compra (virado para baixo);\n",
    "+ O jogador pode descartar uma carta da sua mão, desde que ela seja do mesmo número ou do mesmo naipe da carta aberta. Neste caso, a carta descartada substitui a carta aberta e o jogo prossegue;\n",
    "+ O jogador pode descartar tantas cartas seguidas quanto for possível; quando o jogador não consegue descartar nenhuma das cartas da sua mão, ele compra uma carta e tenta fazer o descarte;\n",
    "+ O jogo termina quando o jogador descartar todas as cartas de sua mão; a quantidade de cartas que sobraram no monte de compra é a pontuação do jogador;\n",
    "+ Caso o monte de compras termine sem o descarte total da mão do jogador, a mesa vence e as cartas restantes na mão contam como pontuação negativa.\n",
    "\n",
    "\n",
    "## Implementação\n",
    "\n",
    "O ambiente está implementado na classe ``Environment``. Essa classe não deve ser modificada."
   ]
  },
  {
   "cell_type": "code",
   "execution_count": 54,
   "id": "dependent-corpus",
   "metadata": {},
   "outputs": [],
   "source": [
    "import random\n",
    "VERBOSE = False\n",
    "\n",
    "class Environment:\n",
    "    __shown_card = None\n",
    "    __stack = None\n",
    "    __hand = None\n",
    "    \n",
    "    def __init__(self, seed = None):\n",
    "        self.__setup(seed)\n",
    "    \n",
    "    def __setup(self, seed = None):\n",
    "        if seed is not None: random.seed(seed)\n",
    "            \n",
    "        numbers = ['1', '2', '3', '4', '5', '6', '7', '8', '9', '10', 'J', 'Q', 'K']\n",
    "        suits = ['P', 'C', 'E', 'O']\n",
    "        all_cards = []\n",
    "        for number in numbers:\n",
    "            for suit in suits:\n",
    "                all_cards.append(number + '_' + suit)\n",
    "\n",
    "        random.shuffle(all_cards)\n",
    "        self.__hand = all_cards[:5]\n",
    "        self.__shown_card = all_cards[5]\n",
    "        self.__stack = all_cards[6:]\n",
    "\n",
    "    def finish(self):\n",
    "        return len(self.__hand) == 0 or len(self.__stack) == 0\n",
    "    \n",
    "    def score(self):\n",
    "        return len(self.__stack) - len(self.__hand)\n",
    "        \n",
    "    def sense(self):\n",
    "        return self.__shown_card, self.__hand\n",
    "\n",
    "    def act(self, action):\n",
    "        if VERBOSE:\n",
    "            print('Shown card is %s' % self.__shown_card)\n",
    "            print('Hand is', self.__hand)\n",
    "        if action is not None:\n",
    "            if VERBOSE: print('Disposing card %s\\n---' % action)\n",
    "            self.__hand.remove(action)\n",
    "            self.__shown_card = action\n",
    "        else:\n",
    "            if VERBOSE: print('Getting card %s from stack\\n---' % self.__stack[-1])\n",
    "            self.__hand.append(self.__stack.pop())"
   ]
  },
  {
   "cell_type": "markdown",
   "id": "available-airport",
   "metadata": {},
   "source": [
    "Implementamos um agente simples ``DummyAgent`` que descarta a primeira carta possível de descartar que encontra em sua mão."
   ]
  },
  {
   "cell_type": "code",
   "execution_count": 55,
   "id": "dedicated-technology",
   "metadata": {},
   "outputs": [],
   "source": [
    "class DummyAgent:\n",
    "    def __init__(self, _env):\n",
    "        self.env = _env\n",
    "    \n",
    "    def step(self):\n",
    "        shown_card, hand = self.__sense()\n",
    "        action = self.__act(shown_card, hand)\n",
    "        self.env.act(action)\n",
    "        \n",
    "    def __sense(self):\n",
    "        shown_card, hand = env.sense()\n",
    "        return shown_card, hand\n",
    "    \n",
    "    def __act(self, shown_card, hand):\n",
    "        for card in hand:\n",
    "            if self.__disposable(shown_card, card):\n",
    "                return card\n",
    "        return None\n",
    "\n",
    "    def __disposable(self, shown_card, card):\n",
    "        number = shown_card.split('_')[0]\n",
    "        suit = shown_card.split('_')[1]\n",
    "        c_number = card.split('_')[0]\n",
    "        c_suit = card.split('_')[1]\n",
    "        return (c_number == number or c_suit == suit)"
   ]
  },
  {
   "cell_type": "markdown",
   "id": "sustained-positive",
   "metadata": {},
   "source": [
    "Finalmente, implementamos uma rotina de jogo. A semente permite controlar a ordem das cartas no baralho e replicar o mesmo jogo para diferentes agentes. De momento, definimos a semente como ``None`` para gerar jogos (pseudo-) aleatórios."
   ]
  },
  {
   "cell_type": "code",
   "execution_count": 65,
   "id": "played-squad",
   "metadata": {},
   "outputs": [
    {
     "name": "stdout",
     "output_type": "stream",
     "text": [
      "7\n"
     ]
    }
   ],
   "source": [
    "#VERBOSE = True\n",
    "seed = None\n",
    "env = Environment(seed)\n",
    "agent = DummyAgent(env)\n",
    "\n",
    "while not env.finish():\n",
    "    agent.step()\n",
    "print(env.score())\n"
   ]
  },
  {
   "cell_type": "markdown",
   "id": "looking-check",
   "metadata": {},
   "source": [
    "Podemos executar o agente dummy repetidas vezes e computar seu desempenho médio, para então comparar com outros agentes (para isso, o ideal é usar o mesmo conjunto de sementes nas execuções de ambos agentes e, então, usar um teste estatístico paramétrico para amostras pareadas)."
   ]
  },
  {
   "cell_type": "code",
   "execution_count": 66,
   "id": "honey-innocent",
   "metadata": {},
   "outputs": [
    {
     "name": "stdout",
     "output_type": "stream",
     "text": [
      "RESULTS\n",
      "Number of samples: 1000\n",
      "Wins: 710 (71.0%)\n",
      "Losses: 290 (29.0%)\n",
      "Mean score: 17.0\n",
      "Standard deviation (score): 18.7\n",
      "Median score: 20.0\n"
     ]
    }
   ],
   "source": [
    "import statistics\n",
    "\n",
    "results = []\n",
    "for _ in range(1000):\n",
    "    seed = None\n",
    "    env = Environment(seed)\n",
    "    agent = DummyAgent(env)\n",
    "\n",
    "    while not env.finish():\n",
    "        agent.step()\n",
    "    results.append(env.score())\n",
    "\n",
    "print('RESULTS')\n",
    "print('Number of samples: %d' % len(results))\n",
    "print('Wins: %d (%.1f%%)' % (sum([1 for x in results if x >= 0]), sum([1 for x in results if x >= 0]) * 100 / len(results)))\n",
    "print('Losses: %d (%.1f%%)' % (sum([1 for x in results if x < 0]), sum([1 for x in results if x < 0]) * 100 / len(results)))\n",
    "print('Mean score: %.1f' % statistics.mean(results))\n",
    "print('Standard deviation (score): %.1f' % statistics.stdev(results))\n",
    "print('Median score: %.1f' % statistics.median(results))"
   ]
  }
 ],
 "metadata": {
  "kernelspec": {
   "display_name": "Python 3",
   "language": "python",
   "name": "python3"
  },
  "language_info": {
   "codemirror_mode": {
    "name": "ipython",
    "version": 3
   },
   "file_extension": ".py",
   "mimetype": "text/x-python",
   "name": "python",
   "nbconvert_exporter": "python",
   "pygments_lexer": "ipython3",
   "version": "3.8.5"
  }
 },
 "nbformat": 4,
 "nbformat_minor": 5
}
